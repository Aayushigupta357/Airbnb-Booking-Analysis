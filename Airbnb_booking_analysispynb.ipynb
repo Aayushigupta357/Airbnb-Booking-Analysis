{
  "nbformat": 4,
  "nbformat_minor": 0,
  "metadata": {
    "colab": {
      "private_outputs": true,
      "provenance": []
    },
    "kernelspec": {
      "name": "python3",
      "display_name": "Python 3"
    },
    "language_info": {
      "name": "python"
    }
  },
  "cells": [
    {
      "cell_type": "markdown",
      "source": [
        "# Double check the file path"
      ],
      "metadata": {
        "id": "viM9PNCTOVNF"
      }
    },
    {
      "cell_type": "code",
      "source": [
        "import os\n",
        "print(os.path.exists(r'C:\\Users\\AAYUSHI GUPTA\\Documents\\Airbnb.csv'))"
      ],
      "metadata": {
        "id": "VTKULAfuNS1m"
      },
      "execution_count": null,
      "outputs": []
    },
    {
      "cell_type": "markdown",
      "source": [
        "# Step 1: Upload the CSV File to Google Colab"
      ],
      "metadata": {
        "id": "xPbPSm8WN36X"
      }
    },
    {
      "cell_type": "code",
      "source": [
        "from google.colab import files\n",
        "uploaded = files.upload()"
      ],
      "metadata": {
        "id": "tTWhksWnNhE0"
      },
      "execution_count": null,
      "outputs": []
    },
    {
      "cell_type": "markdown",
      "source": [
        "#  Step 2: Load the CSV into a DataFrame"
      ],
      "metadata": {
        "id": "8XR06YJ9N82j"
      }
    },
    {
      "cell_type": "code",
      "source": [
        "import pandas as pd\n",
        "\n",
        "# Use the exact filename you uploaded\n",
        "df = pd.read_csv('Airbnb.csv')\n",
        "\n",
        "# Display the first 5 rows\n",
        "df.head()"
      ],
      "metadata": {
        "id": "4dmo8CjmNosO"
      },
      "execution_count": null,
      "outputs": []
    },
    {
      "cell_type": "markdown",
      "source": [
        "# Step 3: Import Other Libraries"
      ],
      "metadata": {
        "id": "_ZnFN5uuOEuo"
      }
    },
    {
      "cell_type": "code",
      "source": [
        "import numpy as np\n",
        "import matplotlib.pyplot as plt\n",
        "import seaborn as sns\n",
        "import plotly.express as px\n",
        "import warnings\n",
        "warnings.filterwarnings(\"ignore\")\n",
        "\n",
        "# Configure Seaborn\n",
        "sns.set(style=\"whitegrid\")"
      ],
      "metadata": {
        "id": "O-SsO11HNyCF"
      },
      "execution_count": null,
      "outputs": []
    },
    {
      "cell_type": "markdown",
      "source": [
        "# Step 4: Data Cleaning & Preprocessing\n"
      ],
      "metadata": {
        "id": "ah4129aFOxRM"
      }
    },
    {
      "cell_type": "code",
      "source": [
        "# Check structure\n",
        "df.info()\n",
        "\n",
        "# Check for missing values\n",
        "print(df.isnull().sum())\n",
        "\n",
        "# Fill missing review values and drop unnecessary columns\n",
        "df['reviews_per_month'].fillna(0, inplace=True)\n",
        "df.drop(['name', 'host_name'], axis=1, inplace=True)\n",
        "\n",
        "# Drop remaining rows with missing values\n",
        "df.dropna(inplace=True)\n",
        "\n",
        "# Remove duplicates\n",
        "df.drop_duplicates(inplace=True)"
      ],
      "metadata": {
        "id": "Nw1BwwGhPbH_"
      },
      "execution_count": null,
      "outputs": []
    },
    {
      "cell_type": "markdown",
      "source": [
        "# Step 5: Exploratory Data Analysis (EDA)"
      ],
      "metadata": {
        "id": "IfzSi6K5Pkdb"
      }
    },
    {
      "cell_type": "markdown",
      "source": [
        "📊 Room Type Distribution"
      ],
      "metadata": {
        "id": "bGrJQlDPPufd"
      }
    },
    {
      "cell_type": "code",
      "source": [
        "sns.countplot(x='room_type', data=df)\n",
        "plt.title(\"Room Type Distribution\")\n",
        "plt.show()"
      ],
      "metadata": {
        "id": "0_V7bRYWPrKv"
      },
      "execution_count": null,
      "outputs": []
    },
    {
      "cell_type": "markdown",
      "source": [
        "💰 Price Distribution"
      ],
      "metadata": {
        "id": "lLWugO6aP14N"
      }
    },
    {
      "cell_type": "code",
      "source": [
        "plt.figure(figsize=(10, 5))\n",
        "sns.histplot(df['price'], bins=100, kde=True)\n",
        "plt.xlim(0, 500)  # Focus on typical price range\n",
        "plt.title(\"Price Distribution\")\n",
        "plt.xlabel(\"Price ($)\")\n",
        "plt.ylabel(\"Number of Listings\")\n",
        "plt.show()"
      ],
      "metadata": {
        "id": "2--J868xP4Sf"
      },
      "execution_count": null,
      "outputs": []
    },
    {
      "cell_type": "markdown",
      "source": [
        "📍 Geographical Distribution (Map)"
      ],
      "metadata": {
        "id": "MLGaQEC8P78q"
      }
    },
    {
      "cell_type": "code",
      "source": [
        "px.scatter_mapbox(df.sample(1000),\n",
        "                  lat=\"latitude\", lon=\"longitude\",\n",
        "                  color=\"price\", size=\"price\",\n",
        "                  hover_name=\"neighbourhood\",\n",
        "                  mapbox_style=\"carto-positron\",\n",
        "                  zoom=10,\n",
        "                  title=\"Listing Locations with Price\")"
      ],
      "metadata": {
        "id": "OaK0x-8ZP-q4"
      },
      "execution_count": null,
      "outputs": []
    },
    {
      "cell_type": "markdown",
      "source": [
        "📅 Availability Analysis"
      ],
      "metadata": {
        "id": "Gg8M-3kJQDTs"
      }
    },
    {
      "cell_type": "code",
      "source": [
        "sns.histplot(df['availability_365'], bins=30, kde=True)\n",
        "plt.title(\"Availability Throughout the Year\")\n",
        "plt.xlabel(\"Days Available\")\n",
        "plt.ylabel(\"Listings Count\")\n",
        "plt.show()"
      ],
      "metadata": {
        "id": "ZPh3tEPoQGSH"
      },
      "execution_count": null,
      "outputs": []
    },
    {
      "cell_type": "markdown",
      "source": [
        "# Step 6: Correlation & Price Analysis"
      ],
      "metadata": {
        "id": "UEKayWWZQI8P"
      }
    },
    {
      "cell_type": "code",
      "source": [
        "# Select only numeric columns for correlation\n",
        "numeric_df = df.select_dtypes(include=[np.number])\n",
        "\n",
        "# Then plot correlation heatmap\n",
        "plt.figure(figsize=(10, 8))\n",
        "sns.heatmap(numeric_df.corr(), annot=True, cmap='coolwarm')\n",
        "plt.title(\"Correlation Heatmap\")\n",
        "plt.show()"
      ],
      "metadata": {
        "id": "Bh5gS8nGQ6uP"
      },
      "execution_count": null,
      "outputs": []
    },
    {
      "cell_type": "markdown",
      "source": [
        "# Step 7: Neighborhood & Host Analysis\n",
        "\n",
        "🏘️ Average Price by Neighbourhood Group"
      ],
      "metadata": {
        "id": "2cckIsYLREQQ"
      }
    },
    {
      "cell_type": "code",
      "source": [
        "avg_price = df.groupby('neighbourhood_group')['price'].mean().sort_values(ascending=False)\n",
        "avg_price.plot(kind='bar', color='skyblue', title='Avg Price per Neighbourhood Group')\n",
        "plt.ylabel('Average Price ($)')\n",
        "plt.show()"
      ],
      "metadata": {
        "id": "O83SbDeQRPhc"
      },
      "execution_count": null,
      "outputs": []
    },
    {
      "cell_type": "markdown",
      "source": [
        "👤 Top Hosts by Number of Listings"
      ],
      "metadata": {
        "id": "e5vmfIHbRT5j"
      }
    },
    {
      "cell_type": "code",
      "source": [
        "top_hosts = df['host_id'].value_counts().head(10)\n",
        "print(\"Top 10 Hosts by Listings:\\n\", top_hosts)"
      ],
      "metadata": {
        "id": "UuWpVpuLRWSb"
      },
      "execution_count": null,
      "outputs": []
    },
    {
      "cell_type": "markdown",
      "source": [
        "# Step 8: Save Cleaned Data"
      ],
      "metadata": {
        "id": "5LqKuNI3RbTe"
      }
    },
    {
      "cell_type": "code",
      "source": [
        "df.to_csv('cleaned_airbnb_data.csv', index=False)"
      ],
      "metadata": {
        "id": "IKhR0GQJRg0C"
      },
      "execution_count": null,
      "outputs": []
    }
  ]
}